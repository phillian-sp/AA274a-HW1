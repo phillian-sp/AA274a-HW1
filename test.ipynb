{
 "cells": [
  {
   "cell_type": "code",
   "execution_count": 3,
   "metadata": {},
   "outputs": [],
   "source": [
    "import math\n",
    "import typing as T\n",
    "\n",
    "import numpy as np\n",
    "from numpy import linalg\n",
    "from scipy.integrate import cumtrapz  # type: ignore\n",
    "import matplotlib.pyplot as plt  # type: ignore\n",
    "\n",
    "from utils import save_dict, maybe_makedirs\n",
    "\n",
    "class State:\n",
    "    def __init__(self, x: float, y: float, V: float, th: float) -> None:\n",
    "        self.x = x\n",
    "        self.y = y\n",
    "        self.V = V\n",
    "        self.th = th\n",
    "\n",
    "    @property\n",
    "    def xd(self) -> float:\n",
    "        return self.V*np.cos(self.th)\n",
    "\n",
    "    @property\n",
    "    def yd(self) -> float:\n",
    "        return self.V*np.sin(self.th)\n",
    "\n",
    "\n",
    "def compute_traj_coeffs(initial_state: State, final_state: State, tf: float) -> np.ndarray:\n",
    "    \"\"\"\n",
    "    Inputs:\n",
    "        initial_state (State)\n",
    "        final_state (State)\n",
    "        tf (float) final time\n",
    "    Output:\n",
    "        coeffs (np.array shape [8]), coefficients on the basis functions\n",
    "\n",
    "    Hint: Use the np.linalg.solve function.\n",
    "    \"\"\"\n",
    "    ########## Code starts here ##########\n",
    "\n",
    "    A = np.array([\n",
    "        [1, 0, 0, 0, 0, 0, 0, 0],\n",
    "        [0, 0, 0, 0, 1, 0, 0, 0],\n",
    "        [0, 1, 0, 0, 0, 0, 0, 0],\n",
    "        [0, 0, 0, 0, 0, 1, 0, 0],\n",
    "        [1, tf, tf**2, tf**3, 0, 0, 0, 0],\n",
    "        [0, 0, 0, 0, 1, tf, tf**2, tf**3],\n",
    "        [0, 1, 2*tf, 3*tf**2, 0, 0, 0, 0],\n",
    "        [0, 0, 0, 0, 0, 1, 2*tf, 3*tf**2]\n",
    "    ])\n",
    "    b = np.array([\n",
    "        initial_state.x,\n",
    "        initial_state.y,\n",
    "        initial_state.xd,\n",
    "        initial_state.yd,\n",
    "        final_state.x,\n",
    "        final_state.y,\n",
    "        final_state.xd,\n",
    "        final_state.yd\n",
    "    ])\n",
    "    coeffs = np.linalg.solve(A, b)\n",
    "\n",
    "    ########## Code ends here ##########\n",
    "    return coeffs"
   ]
  },
  {
   "cell_type": "code",
   "execution_count": 4,
   "metadata": {},
   "outputs": [
    {
     "name": "stdout",
     "output_type": "stream",
     "text": [
      "[ 0.       0.       0.024   -0.00064  0.      -0.5      0.084   -0.00224]\n"
     ]
    }
   ],
   "source": [
    "initial_state = State(0, 0, 0.5, -math.pi/2)\n",
    "final_state = State(5, 5, 0.5, -math.pi/2)\n",
    "tf = 25\n",
    "coeffs = compute_traj_coeffs(initial_state, final_state, tf)\n",
    "print(coeffs)"
   ]
  }
 ],
 "metadata": {
  "kernelspec": {
   "display_name": "aa274a",
   "language": "python",
   "name": "python3"
  },
  "language_info": {
   "codemirror_mode": {
    "name": "ipython",
    "version": 3
   },
   "file_extension": ".py",
   "mimetype": "text/x-python",
   "name": "python",
   "nbconvert_exporter": "python",
   "pygments_lexer": "ipython3",
   "version": "3.10.13"
  },
  "orig_nbformat": 4
 },
 "nbformat": 4,
 "nbformat_minor": 2
}
